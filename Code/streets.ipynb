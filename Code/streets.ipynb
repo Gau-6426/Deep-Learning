{
  "nbformat": 4,
  "nbformat_minor": 0,
  "metadata": {
    "colab": {
      "name": "Welcome To Colaboratory",
      "provenance": [],
      "collapsed_sections": [],
      "toc_visible": true,
      "include_colab_link": true
    },
    "kernelspec": {
      "display_name": "Python 3",
      "name": "python3"
    }
  },
  "cells": [
    {
      "cell_type": "markdown",
      "metadata": {
        "id": "view-in-github",
        "colab_type": "text"
      },
      "source": [
        "<a href=\"https://colab.research.google.com/github/Gau-6426/PCAP/blob/main/Code/streets.ipynb\" target=\"_parent\"><img src=\"https://colab.research.google.com/assets/colab-badge.svg\" alt=\"Open In Colab\"/></a>"
      ]
    },
    {
      "cell_type": "code",
      "metadata": {
        "id": "WnaZJ3j67joP"
      },
      "source": [
        "import numpy as np # linear algebra\n",
        "import pandas as pd # data processing, CSV file I/O (e.g. pd.read_csv)\n",
        "import matplotlib.pyplot as plt\n",
        "import seaborn as sns"
      ],
      "execution_count": 1,
      "outputs": []
    },
    {
      "cell_type": "code",
      "metadata": {
        "id": "zsZ2uPYtOYx8",
        "outputId": "3cbfa136-6f5d-478c-e0a5-6c4dc8cb56fe",
        "colab": {
          "base_uri": "https://localhost:8080/"
        }
      },
      "source": [
        "df_nodes = pd.read_csv(\"https://raw.githubusercontent.com/Gau-6426/PCAP/main/Data/nodes.csv\")\n",
        "print(df_nodes.head(10))\n",
        "df_nodes.shape"
      ],
      "execution_count": 2,
      "outputs": [
        {
          "output_type": "stream",
          "name": "stdout",
          "text": [
            "         _id        long        lat\n",
            "0  366367223  106.629056  10.804243\n",
            "1  366367233  106.709701  10.771110\n",
            "2  366367242  106.737189  10.709337\n",
            "3  366367274  106.760081  10.854489\n",
            "4  366367285  106.721163  10.804994\n",
            "5  366367319  106.618552  10.790438\n",
            "6  366367322  106.657136  10.799155\n",
            "7  366367330  106.564926  10.846947\n",
            "8  366367338  106.632575  10.723753\n",
            "9  366367340  106.714288  10.803099\n"
          ]
        },
        {
          "output_type": "execute_result",
          "data": {
            "text/plain": [
              "(577967, 3)"
            ]
          },
          "metadata": {},
          "execution_count": 2
        }
      ]
    },
    {
      "cell_type": "code",
      "metadata": {
        "id": "Afzel-8x7rpq",
        "colab": {
          "base_uri": "https://localhost:8080/",
          "height": 363
        },
        "outputId": "b3e552db-6cd0-4095-a51f-a234e8a5bd44"
      },
      "source": [
        "df_streets = pd.read_csv(\"https://raw.githubusercontent.com/Gau-6426/PCAP/main/Data/streets.csv\")\n",
        "df_streets.head(10)"
      ],
      "execution_count": 3,
      "outputs": [
        {
          "output_type": "execute_result",
          "data": {
            "text/html": [
              "<div>\n",
              "<style scoped>\n",
              "    .dataframe tbody tr th:only-of-type {\n",
              "        vertical-align: middle;\n",
              "    }\n",
              "\n",
              "    .dataframe tbody tr th {\n",
              "        vertical-align: top;\n",
              "    }\n",
              "\n",
              "    .dataframe thead th {\n",
              "        text-align: right;\n",
              "    }\n",
              "</style>\n",
              "<table border=\"1\" class=\"dataframe\">\n",
              "  <thead>\n",
              "    <tr style=\"text-align: right;\">\n",
              "      <th></th>\n",
              "      <th>_id</th>\n",
              "      <th>level</th>\n",
              "      <th>max_velocity</th>\n",
              "      <th>name</th>\n",
              "      <th>type</th>\n",
              "    </tr>\n",
              "  </thead>\n",
              "  <tbody>\n",
              "    <tr>\n",
              "      <th>0</th>\n",
              "      <td>31096786</td>\n",
              "      <td>1</td>\n",
              "      <td>80.0</td>\n",
              "      <td>Quốc Lộ 1</td>\n",
              "      <td>trunk</td>\n",
              "    </tr>\n",
              "    <tr>\n",
              "      <th>1</th>\n",
              "      <td>32575737</td>\n",
              "      <td>4</td>\n",
              "      <td>NaN</td>\n",
              "      <td>NaN</td>\n",
              "      <td>unclassified</td>\n",
              "    </tr>\n",
              "    <tr>\n",
              "      <th>2</th>\n",
              "      <td>32575794</td>\n",
              "      <td>4</td>\n",
              "      <td>NaN</td>\n",
              "      <td>Chu Văn An</td>\n",
              "      <td>unclassified</td>\n",
              "    </tr>\n",
              "    <tr>\n",
              "      <th>3</th>\n",
              "      <td>32575820</td>\n",
              "      <td>4</td>\n",
              "      <td>NaN</td>\n",
              "      <td>Nguyễn Văn Bá</td>\n",
              "      <td>tertiary</td>\n",
              "    </tr>\n",
              "    <tr>\n",
              "      <th>4</th>\n",
              "      <td>32575823</td>\n",
              "      <td>4</td>\n",
              "      <td>NaN</td>\n",
              "      <td>Nguyễn Thị Nhỏ</td>\n",
              "      <td>tertiary</td>\n",
              "    </tr>\n",
              "    <tr>\n",
              "      <th>5</th>\n",
              "      <td>32575862</td>\n",
              "      <td>3</td>\n",
              "      <td>NaN</td>\n",
              "      <td>Đường số 5</td>\n",
              "      <td>secondary</td>\n",
              "    </tr>\n",
              "    <tr>\n",
              "      <th>6</th>\n",
              "      <td>32575864</td>\n",
              "      <td>3</td>\n",
              "      <td>40.0</td>\n",
              "      <td>Châu Văn Liêm</td>\n",
              "      <td>secondary</td>\n",
              "    </tr>\n",
              "    <tr>\n",
              "      <th>7</th>\n",
              "      <td>32575869</td>\n",
              "      <td>4</td>\n",
              "      <td>NaN</td>\n",
              "      <td>Lê Văn Thịnh</td>\n",
              "      <td>unclassified</td>\n",
              "    </tr>\n",
              "    <tr>\n",
              "      <th>8</th>\n",
              "      <td>32575874</td>\n",
              "      <td>4</td>\n",
              "      <td>NaN</td>\n",
              "      <td>NaN</td>\n",
              "      <td>unclassified</td>\n",
              "    </tr>\n",
              "    <tr>\n",
              "      <th>9</th>\n",
              "      <td>32575935</td>\n",
              "      <td>3</td>\n",
              "      <td>NaN</td>\n",
              "      <td>Tân Phú</td>\n",
              "      <td>primary_link</td>\n",
              "    </tr>\n",
              "  </tbody>\n",
              "</table>\n",
              "</div>"
            ],
            "text/plain": [
              "        _id  level  max_velocity            name          type\n",
              "0  31096786      1          80.0       Quốc Lộ 1         trunk\n",
              "1  32575737      4           NaN             NaN  unclassified\n",
              "2  32575794      4           NaN      Chu Văn An  unclassified\n",
              "3  32575820      4           NaN   Nguyễn Văn Bá      tertiary\n",
              "4  32575823      4           NaN  Nguyễn Thị Nhỏ      tertiary\n",
              "5  32575862      3           NaN      Đường số 5     secondary\n",
              "6  32575864      3          40.0   Châu Văn Liêm     secondary\n",
              "7  32575869      4           NaN    Lê Văn Thịnh  unclassified\n",
              "8  32575874      4           NaN             NaN  unclassified\n",
              "9  32575935      3           NaN         Tân Phú  primary_link"
            ]
          },
          "metadata": {},
          "execution_count": 3
        }
      ]
    },
    {
      "cell_type": "code",
      "metadata": {
        "id": "8g7YOr1yOqSZ",
        "outputId": "d4c8250c-8b3a-4b49-e306-66248474a461",
        "colab": {
          "base_uri": "https://localhost:8080/",
          "height": 423
        }
      },
      "source": [
        "streets_sort_level=df_streets.sort_values(by='level')\n",
        "streets_sort_level"
      ],
      "execution_count": 5,
      "outputs": [
        {
          "output_type": "execute_result",
          "data": {
            "text/html": [
              "<div>\n",
              "<style scoped>\n",
              "    .dataframe tbody tr th:only-of-type {\n",
              "        vertical-align: middle;\n",
              "    }\n",
              "\n",
              "    .dataframe tbody tr th {\n",
              "        vertical-align: top;\n",
              "    }\n",
              "\n",
              "    .dataframe thead th {\n",
              "        text-align: right;\n",
              "    }\n",
              "</style>\n",
              "<table border=\"1\" class=\"dataframe\">\n",
              "  <thead>\n",
              "    <tr style=\"text-align: right;\">\n",
              "      <th></th>\n",
              "      <th>_id</th>\n",
              "      <th>level</th>\n",
              "      <th>max_velocity</th>\n",
              "      <th>name</th>\n",
              "      <th>type</th>\n",
              "    </tr>\n",
              "  </thead>\n",
              "  <tbody>\n",
              "    <tr>\n",
              "      <th>0</th>\n",
              "      <td>31096786</td>\n",
              "      <td>1</td>\n",
              "      <td>80.0</td>\n",
              "      <td>Quốc Lộ 1</td>\n",
              "      <td>trunk</td>\n",
              "    </tr>\n",
              "    <tr>\n",
              "      <th>3548</th>\n",
              "      <td>466364979</td>\n",
              "      <td>1</td>\n",
              "      <td>60.0</td>\n",
              "      <td>Võ Văn Kiệt</td>\n",
              "      <td>trunk</td>\n",
              "    </tr>\n",
              "    <tr>\n",
              "      <th>959</th>\n",
              "      <td>152067205</td>\n",
              "      <td>1</td>\n",
              "      <td>NaN</td>\n",
              "      <td>Vòng xoay An Lạc</td>\n",
              "      <td>trunk</td>\n",
              "    </tr>\n",
              "    <tr>\n",
              "      <th>960</th>\n",
              "      <td>152067208</td>\n",
              "      <td>1</td>\n",
              "      <td>60.0</td>\n",
              "      <td>Quốc lộ 1</td>\n",
              "      <td>trunk</td>\n",
              "    </tr>\n",
              "    <tr>\n",
              "      <th>1014</th>\n",
              "      <td>165367638</td>\n",
              "      <td>1</td>\n",
              "      <td>60.0</td>\n",
              "      <td>Hầm sông Sài Gòn</td>\n",
              "      <td>trunk</td>\n",
              "    </tr>\n",
              "    <tr>\n",
              "      <th>...</th>\n",
              "      <td>...</td>\n",
              "      <td>...</td>\n",
              "      <td>...</td>\n",
              "      <td>...</td>\n",
              "      <td>...</td>\n",
              "    </tr>\n",
              "    <tr>\n",
              "      <th>1021</th>\n",
              "      <td>165919731</td>\n",
              "      <td>4</td>\n",
              "      <td>NaN</td>\n",
              "      <td>Đường dẫn Cầu Thủ Thiêm</td>\n",
              "      <td>tertiary</td>\n",
              "    </tr>\n",
              "    <tr>\n",
              "      <th>3458</th>\n",
              "      <td>462901272</td>\n",
              "      <td>4</td>\n",
              "      <td>NaN</td>\n",
              "      <td>Đường số 18B</td>\n",
              "      <td>unclassified</td>\n",
              "    </tr>\n",
              "    <tr>\n",
              "      <th>3459</th>\n",
              "      <td>462968806</td>\n",
              "      <td>4</td>\n",
              "      <td>40.0</td>\n",
              "      <td>NaN</td>\n",
              "      <td>tertiary_link</td>\n",
              "    </tr>\n",
              "    <tr>\n",
              "      <th>3445</th>\n",
              "      <td>460336755</td>\n",
              "      <td>4</td>\n",
              "      <td>NaN</td>\n",
              "      <td>Số 7</td>\n",
              "      <td>tertiary</td>\n",
              "    </tr>\n",
              "    <tr>\n",
              "      <th>5552</th>\n",
              "      <td>658328101</td>\n",
              "      <td>4</td>\n",
              "      <td>NaN</td>\n",
              "      <td>Võ Văn Tần</td>\n",
              "      <td>tertiary</td>\n",
              "    </tr>\n",
              "  </tbody>\n",
              "</table>\n",
              "<p>5553 rows × 5 columns</p>\n",
              "</div>"
            ],
            "text/plain": [
              "            _id  level  max_velocity                     name           type\n",
              "0      31096786      1          80.0                Quốc Lộ 1          trunk\n",
              "3548  466364979      1          60.0              Võ Văn Kiệt          trunk\n",
              "959   152067205      1           NaN         Vòng xoay An Lạc          trunk\n",
              "960   152067208      1          60.0                Quốc lộ 1          trunk\n",
              "1014  165367638      1          60.0         Hầm sông Sài Gòn          trunk\n",
              "...         ...    ...           ...                      ...            ...\n",
              "1021  165919731      4           NaN  Đường dẫn Cầu Thủ Thiêm       tertiary\n",
              "3458  462901272      4           NaN             Đường số 18B   unclassified\n",
              "3459  462968806      4          40.0                      NaN  tertiary_link\n",
              "3445  460336755      4           NaN                     Số 7       tertiary\n",
              "5552  658328101      4           NaN               Võ Văn Tần       tertiary\n",
              "\n",
              "[5553 rows x 5 columns]"
            ]
          },
          "metadata": {},
          "execution_count": 5
        }
      ]
    }
  ]
}