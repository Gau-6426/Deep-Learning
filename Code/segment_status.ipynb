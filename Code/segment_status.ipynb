{
  "nbformat": 4,
  "nbformat_minor": 0,
  "metadata": {
    "colab": {
      "name": "Welcome To Colaboratory",
      "provenance": [],
      "collapsed_sections": [],
      "include_colab_link": true
    },
    "kernelspec": {
      "display_name": "Python 3",
      "name": "python3"
    }
  },
  "cells": [
    {
      "cell_type": "markdown",
      "metadata": {
        "id": "view-in-github",
        "colab_type": "text"
      },
      "source": [
        "<a href=\"https://colab.research.google.com/github/Gau-6426/PCAP/blob/main/Code/segment_status.ipynb\" target=\"_parent\"><img src=\"https://colab.research.google.com/assets/colab-badge.svg\" alt=\"Open In Colab\"/></a>"
      ]
    },
    {
      "cell_type": "code",
      "metadata": {
        "id": "KQcEdJgF9GmX"
      },
      "source": [
        "import pandas as pd\n",
        "import numpy as np\n",
        "import matplotlib.pyplot as plt\n",
        "import seaborn as sns"
      ],
      "execution_count": 10,
      "outputs": []
    },
    {
      "cell_type": "code",
      "metadata": {
        "id": "XeIISE7o9K7-",
        "colab": {
          "base_uri": "https://localhost:8080/"
        },
        "outputId": "eb06a91c-e73d-49be-b70e-60dae95d76ed"
      },
      "source": [
        "df_segments_status = pd.read_csv(\"https://raw.githubusercontent.com/Gau-6426/PCAP/main/Data/segment_status.csv\")\n",
        "print(df_segments_status.head(10))\n",
        "df_segments_status.shape"
      ],
      "execution_count": 11,
      "outputs": [
        {
          "output_type": "stream",
          "name": "stdout",
          "text": [
            "   _id                updated_at  segment_id  velocity\n",
            "0    0  2020-07-03T14:55:31.869Z       24845        20\n",
            "1    1  2020-07-03T15:02:56.048Z       33923        10\n",
            "2    2  2020-07-04T08:15:52.696Z       33824         5\n",
            "3    3  2020-07-04T08:15:59.903Z       33824         5\n",
            "4    4  2020-07-04T08:16:08.201Z       33824         5\n",
            "5    5  2020-07-04T08:16:11.070Z       33824         5\n",
            "6    6  2020-07-04T08:16:18.512Z       33824         5\n",
            "7    7  2020-07-04T08:16:21.798Z       33824         5\n",
            "8    8  2020-07-04T08:16:24.746Z       33824         5\n",
            "9    9  2020-07-04T08:16:27.606Z       33824         5\n"
          ]
        },
        {
          "output_type": "execute_result",
          "data": {
            "text/plain": [
              "(90938, 4)"
            ]
          },
          "metadata": {},
          "execution_count": 11
        }
      ]
    },
    {
      "cell_type": "code",
      "metadata": {
        "id": "a3mwXS1yPd3g",
        "outputId": "e9f1b79d-62a7-409f-a1e9-adb756b96c68",
        "colab": {
          "base_uri": "https://localhost:8080/",
          "height": 423
        }
      },
      "source": [
        "segment_status_sort=df_segments_status.sort_values(by='velocity')\n",
        "segment_status_sort"
      ],
      "execution_count": 6,
      "outputs": [
        {
          "output_type": "execute_result",
          "data": {
            "text/html": [
              "<div>\n",
              "<style scoped>\n",
              "    .dataframe tbody tr th:only-of-type {\n",
              "        vertical-align: middle;\n",
              "    }\n",
              "\n",
              "    .dataframe tbody tr th {\n",
              "        vertical-align: top;\n",
              "    }\n",
              "\n",
              "    .dataframe thead th {\n",
              "        text-align: right;\n",
              "    }\n",
              "</style>\n",
              "<table border=\"1\" class=\"dataframe\">\n",
              "  <thead>\n",
              "    <tr style=\"text-align: right;\">\n",
              "      <th></th>\n",
              "      <th>_id</th>\n",
              "      <th>updated_at</th>\n",
              "      <th>segment_id</th>\n",
              "      <th>velocity</th>\n",
              "    </tr>\n",
              "  </thead>\n",
              "  <tbody>\n",
              "    <tr>\n",
              "      <th>32416</th>\n",
              "      <td>32416</td>\n",
              "      <td>2020-08-03T00:20:31.797Z</td>\n",
              "      <td>29164</td>\n",
              "      <td>0</td>\n",
              "    </tr>\n",
              "    <tr>\n",
              "      <th>12828</th>\n",
              "      <td>12828</td>\n",
              "      <td>2020-08-03T00:05:30.888Z</td>\n",
              "      <td>83584</td>\n",
              "      <td>0</td>\n",
              "    </tr>\n",
              "    <tr>\n",
              "      <th>8119</th>\n",
              "      <td>8119</td>\n",
              "      <td>2020-08-03T00:02:28.071Z</td>\n",
              "      <td>6536</td>\n",
              "      <td>0</td>\n",
              "    </tr>\n",
              "    <tr>\n",
              "      <th>7466</th>\n",
              "      <td>7466</td>\n",
              "      <td>2020-08-02T23:59:32.926Z</td>\n",
              "      <td>62128</td>\n",
              "      <td>0</td>\n",
              "    </tr>\n",
              "    <tr>\n",
              "      <th>33760</th>\n",
              "      <td>33760</td>\n",
              "      <td>2020-08-03T00:23:27.901Z</td>\n",
              "      <td>5562</td>\n",
              "      <td>0</td>\n",
              "    </tr>\n",
              "    <tr>\n",
              "      <th>...</th>\n",
              "      <td>...</td>\n",
              "      <td>...</td>\n",
              "      <td>...</td>\n",
              "      <td>...</td>\n",
              "    </tr>\n",
              "    <tr>\n",
              "      <th>50856</th>\n",
              "      <td>50856</td>\n",
              "      <td>2020-12-02T15:33:41.160Z</td>\n",
              "      <td>14409</td>\n",
              "      <td>199</td>\n",
              "    </tr>\n",
              "    <tr>\n",
              "      <th>42002</th>\n",
              "      <td>42002</td>\n",
              "      <td>2020-11-26T01:00:22.535Z</td>\n",
              "      <td>63453</td>\n",
              "      <td>199</td>\n",
              "    </tr>\n",
              "    <tr>\n",
              "      <th>52438</th>\n",
              "      <td>52438</td>\n",
              "      <td>2020-12-04T02:19:19.741Z</td>\n",
              "      <td>68714</td>\n",
              "      <td>200</td>\n",
              "    </tr>\n",
              "    <tr>\n",
              "      <th>49320</th>\n",
              "      <td>49320</td>\n",
              "      <td>2020-12-02T02:21:46.673Z</td>\n",
              "      <td>10099</td>\n",
              "      <td>200</td>\n",
              "    </tr>\n",
              "    <tr>\n",
              "      <th>58781</th>\n",
              "      <td>58781</td>\n",
              "      <td>2020-12-09T15:18:12.988Z</td>\n",
              "      <td>33201</td>\n",
              "      <td>200</td>\n",
              "    </tr>\n",
              "  </tbody>\n",
              "</table>\n",
              "<p>90938 rows × 4 columns</p>\n",
              "</div>"
            ],
            "text/plain": [
              "         _id                updated_at  segment_id  velocity\n",
              "32416  32416  2020-08-03T00:20:31.797Z       29164         0\n",
              "12828  12828  2020-08-03T00:05:30.888Z       83584         0\n",
              "8119    8119  2020-08-03T00:02:28.071Z        6536         0\n",
              "7466    7466  2020-08-02T23:59:32.926Z       62128         0\n",
              "33760  33760  2020-08-03T00:23:27.901Z        5562         0\n",
              "...      ...                       ...         ...       ...\n",
              "50856  50856  2020-12-02T15:33:41.160Z       14409       199\n",
              "42002  42002  2020-11-26T01:00:22.535Z       63453       199\n",
              "52438  52438  2020-12-04T02:19:19.741Z       68714       200\n",
              "49320  49320  2020-12-02T02:21:46.673Z       10099       200\n",
              "58781  58781  2020-12-09T15:18:12.988Z       33201       200\n",
              "\n",
              "[90938 rows x 4 columns]"
            ]
          },
          "metadata": {},
          "execution_count": 6
        }
      ]
    },
    {
      "cell_type": "code",
      "metadata": {
        "id": "2AIEz4g2RAkQ"
      },
      "source": [
        "Segments_Status = pd.read_csv(\"https://raw.githubusercontent.com/Gau-6426/PCAP/main/Data/segment_status.csv\", index_col=\"_id\", parse_dates=[\"updated_at\"])"
      ],
      "execution_count": 24,
      "outputs": []
    },
    {
      "cell_type": "code",
      "metadata": {
        "id": "i-eChhXiQ_H3"
      },
      "source": [
        "from math import ceil\n",
        "\n",
        "def transform_LOS(segment_id, velocity):\n",
        "    velocity = df_segments_status.loc[segment_id, \"velocity\"]\n",
        "    if velocity is None:\n",
        "        velocity = 50\n",
        "    \n",
        "    # Transform to label\n",
        "    labels = [\"A\", \"B\", \"C\", \"D\", \"E\", \"F\"]\n",
        "    threshold = 35\n",
        "    if velocity >= 70:\n",
        "        threshold = 45\n",
        "    elif velocity >= 60:\n",
        "        threshold = 40\n",
        "\n",
        "    t = max(threshold - velocity, 0)\n",
        "    return labels[min(ceil(t / 5), 5)]\n",
        "\n",
        "def transform_report(row):\n",
        "    \"\"\"\n",
        "    @Params:\n",
        "        dt: Timestamp object of Pandas\n",
        "    @Return:\n",
        "        dict: {\"date\", \"period_{hour}_{00|30}\"}\n",
        "    \"\"\"\n",
        "    LOS = transform_LOS(row[\"segment_id\"], row[\"velocity\"])\n",
        "    dt = row[\"updated_at\"]\n",
        "    intervals = list(range(24))\n",
        "    h = dt.hour\n",
        "    m = \"00\" if dt.minute < 30 else \"30\"\n",
        "    p_name = f\"period_{h}_{m}\"\n",
        "    return dt.date(), dt.weekday(), p_name, LOS"
      ],
      "execution_count": 32,
      "outputs": []
    },
    {
      "cell_type": "code",
      "metadata": {
        "id": "oXiMvijesVSO"
      },
      "source": [
        "def major_voting(labels):\n",
        "    unique_labels = set(labels)\n",
        "    count_labels = [labels.count(label) for label in unique_labels]\n",
        "\n",
        "    sorted_labels = sorted(zip(unique_labels, count_labels), key=lambda x: x[1])\n",
        "    if len(sorted_labels) > 1 and sorted_labels[0][1] == sorted_labels[1][1]:\n",
        "        print(\"Oh no, many majors?\")\n",
        "    return sorted_labels[0][0]\n",
        "\n",
        "def mean_voting(labels):\n",
        "    l = [\"A\", \"B\", \"C\", \"D\", \"E\", \"F\"]\n",
        "    values = {\"A\":0, \"B\":1, \"C\":2, \"D\":3, \"E\":4, \"F\":5}\n",
        "    mean = sum(values[label] for label in labels) / len(labels)\n",
        "    return l[min(round(mean), 5)]"
      ],
      "execution_count": 33,
      "outputs": []
    },
    {
      "cell_type": "code",
      "metadata": {
        "id": "1hCTLMQ5tnYj",
        "outputId": "92641aed-cedb-494d-b414-42fa82d66495",
        "colab": {
          "base_uri": "https://localhost:8080/",
          "height": 362
        }
      },
      "source": [
        "compress_LOS = df_segments_status.groupby(by=[\"segment_id\", \"date\", \"weekday\", \"period\"])[\"LOS\"].apply(list)\n",
        "compress_LOS = pd.DataFrame(compress_LOS).reset_index()\n",
        "compress_LOS[\"LOS\"] = compress_LOS[\"LOS\"].apply(mean_voting)\n",
        "compress_LOS"
      ],
      "execution_count": 35,
      "outputs": [
        {
          "output_type": "error",
          "ename": "KeyError",
          "evalue": "ignored",
          "traceback": [
            "\u001b[0;31m---------------------------------------------------------------------------\u001b[0m",
            "\u001b[0;31mKeyError\u001b[0m                                  Traceback (most recent call last)",
            "\u001b[0;32m<ipython-input-35-c5453b5adcf9>\u001b[0m in \u001b[0;36m<module>\u001b[0;34m()\u001b[0m\n\u001b[0;32m----> 1\u001b[0;31m \u001b[0mcompress_LOS\u001b[0m \u001b[0;34m=\u001b[0m \u001b[0mdf_segments_status\u001b[0m\u001b[0;34m.\u001b[0m\u001b[0mgroupby\u001b[0m\u001b[0;34m(\u001b[0m\u001b[0mby\u001b[0m\u001b[0;34m=\u001b[0m\u001b[0;34m[\u001b[0m\u001b[0;34m\"segment_id\"\u001b[0m\u001b[0;34m,\u001b[0m \u001b[0;34m\"date\"\u001b[0m\u001b[0;34m,\u001b[0m \u001b[0;34m\"weekday\"\u001b[0m\u001b[0;34m,\u001b[0m \u001b[0;34m\"period\"\u001b[0m\u001b[0;34m]\u001b[0m\u001b[0;34m)\u001b[0m\u001b[0;34m[\u001b[0m\u001b[0;34m\"LOS\"\u001b[0m\u001b[0;34m]\u001b[0m\u001b[0;34m.\u001b[0m\u001b[0mapply\u001b[0m\u001b[0;34m(\u001b[0m\u001b[0mlist\u001b[0m\u001b[0;34m)\u001b[0m\u001b[0;34m\u001b[0m\u001b[0;34m\u001b[0m\u001b[0m\n\u001b[0m\u001b[1;32m      2\u001b[0m \u001b[0mcompress_LOS\u001b[0m \u001b[0;34m=\u001b[0m \u001b[0mpd\u001b[0m\u001b[0;34m.\u001b[0m\u001b[0mDataFrame\u001b[0m\u001b[0;34m(\u001b[0m\u001b[0mcompress_LOS\u001b[0m\u001b[0;34m)\u001b[0m\u001b[0;34m.\u001b[0m\u001b[0mreset_index\u001b[0m\u001b[0;34m(\u001b[0m\u001b[0;34m)\u001b[0m\u001b[0;34m\u001b[0m\u001b[0;34m\u001b[0m\u001b[0m\n\u001b[1;32m      3\u001b[0m \u001b[0mcompress_LOS\u001b[0m\u001b[0;34m[\u001b[0m\u001b[0;34m\"LOS\"\u001b[0m\u001b[0;34m]\u001b[0m \u001b[0;34m=\u001b[0m \u001b[0mcompress_LOS\u001b[0m\u001b[0;34m[\u001b[0m\u001b[0;34m\"LOS\"\u001b[0m\u001b[0;34m]\u001b[0m\u001b[0;34m.\u001b[0m\u001b[0mapply\u001b[0m\u001b[0;34m(\u001b[0m\u001b[0mmean_voting\u001b[0m\u001b[0;34m)\u001b[0m\u001b[0;34m\u001b[0m\u001b[0;34m\u001b[0m\u001b[0m\n\u001b[1;32m      4\u001b[0m \u001b[0mcompress_LOS\u001b[0m\u001b[0;34m\u001b[0m\u001b[0;34m\u001b[0m\u001b[0m\n",
            "\u001b[0;32m/usr/local/lib/python3.7/dist-packages/pandas/core/frame.py\u001b[0m in \u001b[0;36mgroupby\u001b[0;34m(self, by, axis, level, as_index, sort, group_keys, squeeze, observed, dropna)\u001b[0m\n\u001b[1;32m   6523\u001b[0m             \u001b[0msqueeze\u001b[0m\u001b[0;34m=\u001b[0m\u001b[0msqueeze\u001b[0m\u001b[0;34m,\u001b[0m\u001b[0;34m\u001b[0m\u001b[0;34m\u001b[0m\u001b[0m\n\u001b[1;32m   6524\u001b[0m             \u001b[0mobserved\u001b[0m\u001b[0;34m=\u001b[0m\u001b[0mobserved\u001b[0m\u001b[0;34m,\u001b[0m\u001b[0;34m\u001b[0m\u001b[0;34m\u001b[0m\u001b[0m\n\u001b[0;32m-> 6525\u001b[0;31m             \u001b[0mdropna\u001b[0m\u001b[0;34m=\u001b[0m\u001b[0mdropna\u001b[0m\u001b[0;34m,\u001b[0m\u001b[0;34m\u001b[0m\u001b[0;34m\u001b[0m\u001b[0m\n\u001b[0m\u001b[1;32m   6526\u001b[0m         )\n\u001b[1;32m   6527\u001b[0m \u001b[0;34m\u001b[0m\u001b[0m\n",
            "\u001b[0;32m/usr/local/lib/python3.7/dist-packages/pandas/core/groupby/groupby.py\u001b[0m in \u001b[0;36m__init__\u001b[0;34m(self, obj, keys, axis, level, grouper, exclusions, selection, as_index, sort, group_keys, squeeze, observed, mutated, dropna)\u001b[0m\n\u001b[1;32m    531\u001b[0m                 \u001b[0mobserved\u001b[0m\u001b[0;34m=\u001b[0m\u001b[0mobserved\u001b[0m\u001b[0;34m,\u001b[0m\u001b[0;34m\u001b[0m\u001b[0;34m\u001b[0m\u001b[0m\n\u001b[1;32m    532\u001b[0m                 \u001b[0mmutated\u001b[0m\u001b[0;34m=\u001b[0m\u001b[0mself\u001b[0m\u001b[0;34m.\u001b[0m\u001b[0mmutated\u001b[0m\u001b[0;34m,\u001b[0m\u001b[0;34m\u001b[0m\u001b[0;34m\u001b[0m\u001b[0m\n\u001b[0;32m--> 533\u001b[0;31m                 \u001b[0mdropna\u001b[0m\u001b[0;34m=\u001b[0m\u001b[0mself\u001b[0m\u001b[0;34m.\u001b[0m\u001b[0mdropna\u001b[0m\u001b[0;34m,\u001b[0m\u001b[0;34m\u001b[0m\u001b[0;34m\u001b[0m\u001b[0m\n\u001b[0m\u001b[1;32m    534\u001b[0m             )\n\u001b[1;32m    535\u001b[0m \u001b[0;34m\u001b[0m\u001b[0m\n",
            "\u001b[0;32m/usr/local/lib/python3.7/dist-packages/pandas/core/groupby/grouper.py\u001b[0m in \u001b[0;36mget_grouper\u001b[0;34m(obj, key, axis, level, sort, observed, mutated, validate, dropna)\u001b[0m\n\u001b[1;32m    784\u001b[0m                 \u001b[0min_axis\u001b[0m\u001b[0;34m,\u001b[0m \u001b[0mname\u001b[0m\u001b[0;34m,\u001b[0m \u001b[0mlevel\u001b[0m\u001b[0;34m,\u001b[0m \u001b[0mgpr\u001b[0m \u001b[0;34m=\u001b[0m \u001b[0;32mFalse\u001b[0m\u001b[0;34m,\u001b[0m \u001b[0;32mNone\u001b[0m\u001b[0;34m,\u001b[0m \u001b[0mgpr\u001b[0m\u001b[0;34m,\u001b[0m \u001b[0;32mNone\u001b[0m\u001b[0;34m\u001b[0m\u001b[0;34m\u001b[0m\u001b[0m\n\u001b[1;32m    785\u001b[0m             \u001b[0;32melse\u001b[0m\u001b[0;34m:\u001b[0m\u001b[0;34m\u001b[0m\u001b[0;34m\u001b[0m\u001b[0m\n\u001b[0;32m--> 786\u001b[0;31m                 \u001b[0;32mraise\u001b[0m \u001b[0mKeyError\u001b[0m\u001b[0;34m(\u001b[0m\u001b[0mgpr\u001b[0m\u001b[0;34m)\u001b[0m\u001b[0;34m\u001b[0m\u001b[0;34m\u001b[0m\u001b[0m\n\u001b[0m\u001b[1;32m    787\u001b[0m         \u001b[0;32melif\u001b[0m \u001b[0misinstance\u001b[0m\u001b[0;34m(\u001b[0m\u001b[0mgpr\u001b[0m\u001b[0;34m,\u001b[0m \u001b[0mGrouper\u001b[0m\u001b[0;34m)\u001b[0m \u001b[0;32mand\u001b[0m \u001b[0mgpr\u001b[0m\u001b[0;34m.\u001b[0m\u001b[0mkey\u001b[0m \u001b[0;32mis\u001b[0m \u001b[0;32mnot\u001b[0m \u001b[0;32mNone\u001b[0m\u001b[0;34m:\u001b[0m\u001b[0;34m\u001b[0m\u001b[0;34m\u001b[0m\u001b[0m\n\u001b[1;32m    788\u001b[0m             \u001b[0;31m# Add key to exclusions\u001b[0m\u001b[0;34m\u001b[0m\u001b[0;34m\u001b[0m\u001b[0;34m\u001b[0m\u001b[0m\n",
            "\u001b[0;31mKeyError\u001b[0m: 'date'"
          ]
        }
      ]
    }
  ]
}