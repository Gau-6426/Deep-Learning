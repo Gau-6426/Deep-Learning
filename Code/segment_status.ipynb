{
  "nbformat": 4,
  "nbformat_minor": 0,
  "metadata": {
    "colab": {
      "name": "Welcome To Colaboratory",
      "provenance": [],
      "collapsed_sections": [],
      "include_colab_link": true
    },
    "kernelspec": {
      "display_name": "Python 3",
      "name": "python3"
    }
  },
  "cells": [
    {
      "cell_type": "markdown",
      "metadata": {
        "id": "view-in-github",
        "colab_type": "text"
      },
      "source": [
        "<a href=\"https://colab.research.google.com/github/Gau-6426/PCAP/blob/main/Code/segment_status.ipynb\" target=\"_parent\"><img src=\"https://colab.research.google.com/assets/colab-badge.svg\" alt=\"Open In Colab\"/></a>"
      ]
    },
    {
      "cell_type": "code",
      "metadata": {
        "id": "KQcEdJgF9GmX"
      },
      "source": [
        "import pandas as pd\n",
        "import numpy as np\n",
        "import matplotlib.pyplot as plt\n",
        "import seaborn as sns"
      ],
      "execution_count": null,
      "outputs": []
    },
    {
      "cell_type": "code",
      "metadata": {
        "id": "XeIISE7o9K7-",
        "colab": {
          "base_uri": "https://localhost:8080/"
        },
        "outputId": "eb06a91c-e73d-49be-b70e-60dae95d76ed"
      },
      "source": [
        "df_segments_status = pd.read_csv(\"https://raw.githubusercontent.com/Gau-6426/PCAP/main/Data/segment_status.csv\")\n",
        "print(df_segments_status.head(10))\n",
        "df_segments_status.shape"
      ],
      "execution_count": null,
      "outputs": [
        {
          "output_type": "stream",
          "name": "stdout",
          "text": [
            "   _id                updated_at  segment_id  velocity\n",
            "0    0  2020-07-03T14:55:31.869Z       24845        20\n",
            "1    1  2020-07-03T15:02:56.048Z       33923        10\n",
            "2    2  2020-07-04T08:15:52.696Z       33824         5\n",
            "3    3  2020-07-04T08:15:59.903Z       33824         5\n",
            "4    4  2020-07-04T08:16:08.201Z       33824         5\n",
            "5    5  2020-07-04T08:16:11.070Z       33824         5\n",
            "6    6  2020-07-04T08:16:18.512Z       33824         5\n",
            "7    7  2020-07-04T08:16:21.798Z       33824         5\n",
            "8    8  2020-07-04T08:16:24.746Z       33824         5\n",
            "9    9  2020-07-04T08:16:27.606Z       33824         5\n"
          ]
        },
        {
          "output_type": "execute_result",
          "data": {
            "text/plain": [
              "(90938, 4)"
            ]
          },
          "metadata": {},
          "execution_count": 11
        }
      ]
    },
    {
      "cell_type": "code",
      "metadata": {
        "id": "a3mwXS1yPd3g",
        "colab": {
          "base_uri": "https://localhost:8080/",
          "height": 423
        },
        "outputId": "e9f1b79d-62a7-409f-a1e9-adb756b96c68"
      },
      "source": [
        "segment_status_sort=df_segments_status.sort_values(by='velocity')\n",
        "segment_status_sort"
      ],
      "execution_count": null,
      "outputs": [
        {
          "output_type": "execute_result",
          "data": {
            "text/html": [
              "<div>\n",
              "<style scoped>\n",
              "    .dataframe tbody tr th:only-of-type {\n",
              "        vertical-align: middle;\n",
              "    }\n",
              "\n",
              "    .dataframe tbody tr th {\n",
              "        vertical-align: top;\n",
              "    }\n",
              "\n",
              "    .dataframe thead th {\n",
              "        text-align: right;\n",
              "    }\n",
              "</style>\n",
              "<table border=\"1\" class=\"dataframe\">\n",
              "  <thead>\n",
              "    <tr style=\"text-align: right;\">\n",
              "      <th></th>\n",
              "      <th>_id</th>\n",
              "      <th>updated_at</th>\n",
              "      <th>segment_id</th>\n",
              "      <th>velocity</th>\n",
              "    </tr>\n",
              "  </thead>\n",
              "  <tbody>\n",
              "    <tr>\n",
              "      <th>32416</th>\n",
              "      <td>32416</td>\n",
              "      <td>2020-08-03T00:20:31.797Z</td>\n",
              "      <td>29164</td>\n",
              "      <td>0</td>\n",
              "    </tr>\n",
              "    <tr>\n",
              "      <th>12828</th>\n",
              "      <td>12828</td>\n",
              "      <td>2020-08-03T00:05:30.888Z</td>\n",
              "      <td>83584</td>\n",
              "      <td>0</td>\n",
              "    </tr>\n",
              "    <tr>\n",
              "      <th>8119</th>\n",
              "      <td>8119</td>\n",
              "      <td>2020-08-03T00:02:28.071Z</td>\n",
              "      <td>6536</td>\n",
              "      <td>0</td>\n",
              "    </tr>\n",
              "    <tr>\n",
              "      <th>7466</th>\n",
              "      <td>7466</td>\n",
              "      <td>2020-08-02T23:59:32.926Z</td>\n",
              "      <td>62128</td>\n",
              "      <td>0</td>\n",
              "    </tr>\n",
              "    <tr>\n",
              "      <th>33760</th>\n",
              "      <td>33760</td>\n",
              "      <td>2020-08-03T00:23:27.901Z</td>\n",
              "      <td>5562</td>\n",
              "      <td>0</td>\n",
              "    </tr>\n",
              "    <tr>\n",
              "      <th>...</th>\n",
              "      <td>...</td>\n",
              "      <td>...</td>\n",
              "      <td>...</td>\n",
              "      <td>...</td>\n",
              "    </tr>\n",
              "    <tr>\n",
              "      <th>50856</th>\n",
              "      <td>50856</td>\n",
              "      <td>2020-12-02T15:33:41.160Z</td>\n",
              "      <td>14409</td>\n",
              "      <td>199</td>\n",
              "    </tr>\n",
              "    <tr>\n",
              "      <th>42002</th>\n",
              "      <td>42002</td>\n",
              "      <td>2020-11-26T01:00:22.535Z</td>\n",
              "      <td>63453</td>\n",
              "      <td>199</td>\n",
              "    </tr>\n",
              "    <tr>\n",
              "      <th>52438</th>\n",
              "      <td>52438</td>\n",
              "      <td>2020-12-04T02:19:19.741Z</td>\n",
              "      <td>68714</td>\n",
              "      <td>200</td>\n",
              "    </tr>\n",
              "    <tr>\n",
              "      <th>49320</th>\n",
              "      <td>49320</td>\n",
              "      <td>2020-12-02T02:21:46.673Z</td>\n",
              "      <td>10099</td>\n",
              "      <td>200</td>\n",
              "    </tr>\n",
              "    <tr>\n",
              "      <th>58781</th>\n",
              "      <td>58781</td>\n",
              "      <td>2020-12-09T15:18:12.988Z</td>\n",
              "      <td>33201</td>\n",
              "      <td>200</td>\n",
              "    </tr>\n",
              "  </tbody>\n",
              "</table>\n",
              "<p>90938 rows × 4 columns</p>\n",
              "</div>"
            ],
            "text/plain": [
              "         _id                updated_at  segment_id  velocity\n",
              "32416  32416  2020-08-03T00:20:31.797Z       29164         0\n",
              "12828  12828  2020-08-03T00:05:30.888Z       83584         0\n",
              "8119    8119  2020-08-03T00:02:28.071Z        6536         0\n",
              "7466    7466  2020-08-02T23:59:32.926Z       62128         0\n",
              "33760  33760  2020-08-03T00:23:27.901Z        5562         0\n",
              "...      ...                       ...         ...       ...\n",
              "50856  50856  2020-12-02T15:33:41.160Z       14409       199\n",
              "42002  42002  2020-11-26T01:00:22.535Z       63453       199\n",
              "52438  52438  2020-12-04T02:19:19.741Z       68714       200\n",
              "49320  49320  2020-12-02T02:21:46.673Z       10099       200\n",
              "58781  58781  2020-12-09T15:18:12.988Z       33201       200\n",
              "\n",
              "[90938 rows x 4 columns]"
            ]
          },
          "metadata": {},
          "execution_count": 6
        }
      ]
    },
    {
      "cell_type": "code",
      "metadata": {
        "id": "vLo-iZ-NC8BK"
      },
      "source": [
        ""
      ],
      "execution_count": null,
      "outputs": []
    }
  ]
}