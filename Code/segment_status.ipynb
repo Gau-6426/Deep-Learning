{
  "nbformat": 4,
  "nbformat_minor": 0,
  "metadata": {
    "colab": {
      "name": "Welcome To Colaboratory",
      "provenance": [],
      "collapsed_sections": [],
      "include_colab_link": true
    },
    "kernelspec": {
      "display_name": "Python 3",
      "name": "python3"
    }
  },
  "cells": [
    {
      "cell_type": "markdown",
      "metadata": {
        "id": "view-in-github",
        "colab_type": "text"
      },
      "source": [
        "<a href=\"https://colab.research.google.com/github/Gau-6426/PCAP/blob/main/Code/segment_status.ipynb\" target=\"_parent\"><img src=\"https://colab.research.google.com/assets/colab-badge.svg\" alt=\"Open In Colab\"/></a>"
      ]
    },
    {
      "cell_type": "code",
      "metadata": {
        "id": "KQcEdJgF9GmX"
      },
      "source": [
        "import pandas as pd\n",
        "import numpy as np\n",
        "import matplotlib.pyplot as plt\n",
        "import seaborn as sns"
      ],
      "execution_count": 1,
      "outputs": []
    },
    {
      "cell_type": "code",
      "metadata": {
        "id": "XeIISE7o9K7-",
        "colab": {
          "base_uri": "https://localhost:8080/"
        },
        "outputId": "36832acb-04ee-4ae0-ee00-e61994c37962"
      },
      "source": [
        "df_segments_status = pd.read_csv(\"https://raw.githubusercontent.com/Gau-6426/PCAP/main/Data/segment_status.csv\",index_col=\"_id\", parse_dates=[\"updated_at\"])\n",
        "print(df_segments_status.head(10))\n",
        "df_segments_status.shape"
      ],
      "execution_count": 2,
      "outputs": [
        {
          "output_type": "stream",
          "name": "stdout",
          "text": [
            "                          updated_at  segment_id  velocity\n",
            "_id                                                       \n",
            "0   2020-07-03 14:55:31.869000+00:00       24845        20\n",
            "1   2020-07-03 15:02:56.048000+00:00       33923        10\n",
            "2   2020-07-04 08:15:52.696000+00:00       33824         5\n",
            "3   2020-07-04 08:15:59.903000+00:00       33824         5\n",
            "4   2020-07-04 08:16:08.201000+00:00       33824         5\n",
            "5   2020-07-04 08:16:11.070000+00:00       33824         5\n",
            "6   2020-07-04 08:16:18.512000+00:00       33824         5\n",
            "7   2020-07-04 08:16:21.798000+00:00       33824         5\n",
            "8   2020-07-04 08:16:24.746000+00:00       33824         5\n",
            "9   2020-07-04 08:16:27.606000+00:00       33824         5\n"
          ]
        },
        {
          "output_type": "execute_result",
          "data": {
            "text/plain": [
              "(90938, 3)"
            ]
          },
          "metadata": {},
          "execution_count": 2
        }
      ]
    },
    {
      "cell_type": "code",
      "metadata": {
        "id": "a3mwXS1yPd3g",
        "colab": {
          "base_uri": "https://localhost:8080/",
          "height": 455
        },
        "outputId": "acd9f46b-9c20-47ee-d9d5-c9e391aa401a"
      },
      "source": [
        "segment_status_sort=df_segments_status.sort_values(by='velocity')\n",
        "segment_status_sort"
      ],
      "execution_count": 3,
      "outputs": [
        {
          "output_type": "execute_result",
          "data": {
            "text/html": [
              "<div>\n",
              "<style scoped>\n",
              "    .dataframe tbody tr th:only-of-type {\n",
              "        vertical-align: middle;\n",
              "    }\n",
              "\n",
              "    .dataframe tbody tr th {\n",
              "        vertical-align: top;\n",
              "    }\n",
              "\n",
              "    .dataframe thead th {\n",
              "        text-align: right;\n",
              "    }\n",
              "</style>\n",
              "<table border=\"1\" class=\"dataframe\">\n",
              "  <thead>\n",
              "    <tr style=\"text-align: right;\">\n",
              "      <th></th>\n",
              "      <th>updated_at</th>\n",
              "      <th>segment_id</th>\n",
              "      <th>velocity</th>\n",
              "    </tr>\n",
              "    <tr>\n",
              "      <th>_id</th>\n",
              "      <th></th>\n",
              "      <th></th>\n",
              "      <th></th>\n",
              "    </tr>\n",
              "  </thead>\n",
              "  <tbody>\n",
              "    <tr>\n",
              "      <th>32416</th>\n",
              "      <td>2020-08-03 00:20:31.797000+00:00</td>\n",
              "      <td>29164</td>\n",
              "      <td>0</td>\n",
              "    </tr>\n",
              "    <tr>\n",
              "      <th>12828</th>\n",
              "      <td>2020-08-03 00:05:30.888000+00:00</td>\n",
              "      <td>83584</td>\n",
              "      <td>0</td>\n",
              "    </tr>\n",
              "    <tr>\n",
              "      <th>8119</th>\n",
              "      <td>2020-08-03 00:02:28.071000+00:00</td>\n",
              "      <td>6536</td>\n",
              "      <td>0</td>\n",
              "    </tr>\n",
              "    <tr>\n",
              "      <th>7466</th>\n",
              "      <td>2020-08-02 23:59:32.926000+00:00</td>\n",
              "      <td>62128</td>\n",
              "      <td>0</td>\n",
              "    </tr>\n",
              "    <tr>\n",
              "      <th>33760</th>\n",
              "      <td>2020-08-03 00:23:27.901000+00:00</td>\n",
              "      <td>5562</td>\n",
              "      <td>0</td>\n",
              "    </tr>\n",
              "    <tr>\n",
              "      <th>...</th>\n",
              "      <td>...</td>\n",
              "      <td>...</td>\n",
              "      <td>...</td>\n",
              "    </tr>\n",
              "    <tr>\n",
              "      <th>50856</th>\n",
              "      <td>2020-12-02 15:33:41.160000+00:00</td>\n",
              "      <td>14409</td>\n",
              "      <td>199</td>\n",
              "    </tr>\n",
              "    <tr>\n",
              "      <th>42002</th>\n",
              "      <td>2020-11-26 01:00:22.535000+00:00</td>\n",
              "      <td>63453</td>\n",
              "      <td>199</td>\n",
              "    </tr>\n",
              "    <tr>\n",
              "      <th>52438</th>\n",
              "      <td>2020-12-04 02:19:19.741000+00:00</td>\n",
              "      <td>68714</td>\n",
              "      <td>200</td>\n",
              "    </tr>\n",
              "    <tr>\n",
              "      <th>49320</th>\n",
              "      <td>2020-12-02 02:21:46.673000+00:00</td>\n",
              "      <td>10099</td>\n",
              "      <td>200</td>\n",
              "    </tr>\n",
              "    <tr>\n",
              "      <th>58781</th>\n",
              "      <td>2020-12-09 15:18:12.988000+00:00</td>\n",
              "      <td>33201</td>\n",
              "      <td>200</td>\n",
              "    </tr>\n",
              "  </tbody>\n",
              "</table>\n",
              "<p>90938 rows × 3 columns</p>\n",
              "</div>"
            ],
            "text/plain": [
              "                            updated_at  segment_id  velocity\n",
              "_id                                                         \n",
              "32416 2020-08-03 00:20:31.797000+00:00       29164         0\n",
              "12828 2020-08-03 00:05:30.888000+00:00       83584         0\n",
              "8119  2020-08-03 00:02:28.071000+00:00        6536         0\n",
              "7466  2020-08-02 23:59:32.926000+00:00       62128         0\n",
              "33760 2020-08-03 00:23:27.901000+00:00        5562         0\n",
              "...                                ...         ...       ...\n",
              "50856 2020-12-02 15:33:41.160000+00:00       14409       199\n",
              "42002 2020-11-26 01:00:22.535000+00:00       63453       199\n",
              "52438 2020-12-04 02:19:19.741000+00:00       68714       200\n",
              "49320 2020-12-02 02:21:46.673000+00:00       10099       200\n",
              "58781 2020-12-09 15:18:12.988000+00:00       33201       200\n",
              "\n",
              "[90938 rows x 3 columns]"
            ]
          },
          "metadata": {},
          "execution_count": 3
        }
      ]
    },
    {
      "cell_type": "code",
      "metadata": {
        "id": "vLo-iZ-NC8BK"
      },
      "source": [
        ""
      ],
      "execution_count": 3,
      "outputs": []
    }
  ]
}