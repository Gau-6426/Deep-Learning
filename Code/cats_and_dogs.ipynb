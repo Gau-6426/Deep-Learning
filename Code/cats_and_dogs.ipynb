{
  "nbformat": 4,
  "nbformat_minor": 0,
  "metadata": {
    "colab": {
      "name": "Welcome To Colaboratory",
      "provenance": [],
      "collapsed_sections": [],
      "toc_visible": true,
      "include_colab_link": true
    },
    "kernelspec": {
      "display_name": "Python 3",
      "name": "python3"
    }
  },
  "cells": [
    {
      "cell_type": "markdown",
      "metadata": {
        "id": "view-in-github",
        "colab_type": "text"
      },
      "source": [
        "<a href=\"https://colab.research.google.com/github/Gau-6426/Deep-Learning/blob/main/Code/cats_and_dogs.ipynb\" target=\"_parent\"><img src=\"https://colab.research.google.com/assets/colab-badge.svg\" alt=\"Open In Colab\"/></a>"
      ]
    },
    {
      "cell_type": "code",
      "metadata": {
        "id": "abirq0sHUxXU"
      },
      "source": [
        "import re\n",
        "from absl import logging\n",
        "import tensorflow as tf\n",
        "import tensorflow_datasets.public_api as tfds"
      ],
      "execution_count": 17,
      "outputs": []
    },
    {
      "cell_type": "code",
      "metadata": {
        "id": "xUYB-d-fZ3tW"
      },
      "source": [
        "_URL = (\"https://download.microsoft.com/download/3/E/1/3E1C3F21-\"\n",
        "        \"ECDB-4869-8368-6DEBA77B919F/kagglecatsanddogs_3367a.zip\")\n",
        "_NUM_CORRUPT_IMAGES = 1738\n",
        "_DESCRIPTION = ((\"A large set of images of cats and dogs. \"\n",
        "                 \"There are %d corrupted images that are dropped.\") %\n",
        "                _NUM_CORRUPT_IMAGES)\n",
        "\n",
        "_NAME_RE = re.compile(r\"^PetImages[\\\\/](Cat|Dog)[\\\\/]\\d+\\.jpg$\")"
      ],
      "execution_count": 18,
      "outputs": []
    },
    {
      "cell_type": "code",
      "metadata": {
        "id": "VgiBne9WZ5NC"
      },
      "source": [
        "class CatsVsDogs(tfds.core.GeneratorBasedBuilder):\n",
        "  \"\"\"Cats vs Dogs.\"\"\"\n",
        "\n",
        "  VERSION = tfds.core.Version(\"4.0.0\")\n",
        "  RELEASE_NOTES = {\n",
        "      \"4.0.0\": \"New split API (https://tensorflow.org/datasets/splits)\",\n",
        "  }"
      ],
      "execution_count": 19,
      "outputs": []
    },
    {
      "cell_type": "code",
      "metadata": {
        "id": "juxgQc-AZ-42"
      },
      "source": [
        "def _info(self):\n",
        "    return tfds.core.DatasetInfo(\n",
        "        builder=self,\n",
        "        description=_DESCRIPTION,\n",
        "        features=tfds.features.FeaturesDict({\n",
        "            \"image\": tfds.features.Image(),\n",
        "            \"image/filename\": tfds.features.Text(),  # eg 'PetImages/Dog/0.jpg'\n",
        "            \"label\": tfds.features.ClassLabel(names=[\"cat\", \"dog\"]),\n",
        "        }),\n",
        "        supervised_keys=(\"image\", \"label\"),\n",
        "        homepage=\"https://www.microsoft.com/en-us/download/details.aspx?id=54765\",\n",
        "        citation=_CITATION,\n",
        "    )"
      ],
      "execution_count": 20,
      "outputs": []
    },
    {
      "cell_type": "code",
      "metadata": {
        "id": "6KMhsd68aBjj"
      },
      "source": [
        " def _split_generators(self, dl_manager):\n",
        "    path = dl_manager.download(_URL)\n",
        "\n",
        "    # There is no predefined train/val/test split for this dataset.\n",
        "    return [\n",
        "        tfds.core.SplitGenerator(\n",
        "            name=tfds.Split.TRAIN,\n",
        "            gen_kwargs={\n",
        "                \"archive\": dl_manager.iter_archive(path),\n",
        "            }),\n",
        "    ]"
      ],
      "execution_count": 21,
      "outputs": []
    },
    {
      "cell_type": "code",
      "metadata": {
        "id": "ZhuelXbdaD7O"
      },
      "source": [
        "def _generate_examples(self, archive):\n",
        "    \"\"\"Generate Cats vs Dogs images and labels given a directory path.\"\"\"\n",
        "    num_skipped = 0\n",
        "    for fname, fobj in archive:\n",
        "      res = _NAME_RE.match(fname)\n",
        "      if not res:  # README file, ...\n",
        "        continue\n",
        "      label = res.group(1).lower()\n",
        "      if tf.compat.as_bytes(\"JFIF\") not in fobj.peek(10):\n",
        "        num_skipped += 1\n",
        "        continue\n",
        "      record = {\n",
        "          \"image\": fobj,\n",
        "          \"image/filename\": fname,\n",
        "          \"label\": label,\n",
        "      }\n",
        "      yield fname, record\n",
        "\n",
        "      if num_skipped != _NUM_CORRUPT_IMAGES:\n",
        "        raise ValueError(\"Expected %d corrupt images, but found %d\" %\n",
        "                       (_NUM_CORRUPT_IMAGES, num_skipped))\n",
        "    logging.warning(\"%d images were corrupted and were skipped\", num_skipped)"
      ],
      "execution_count": 22,
      "outputs": []
    },
    {
      "cell_type": "code",
      "metadata": {
        "id": "67ns0K3Gcle6"
      },
      "source": [
        ""
      ],
      "execution_count": null,
      "outputs": []
    }
  ]
}