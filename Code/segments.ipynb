{
  "nbformat": 4,
  "nbformat_minor": 0,
  "metadata": {
    "colab": {
      "name": "Welcome To Colaboratory",
      "provenance": [],
      "collapsed_sections": [],
      "include_colab_link": true
    },
    "kernelspec": {
      "display_name": "Python 3",
      "name": "python3"
    }
  },
  "cells": [
    {
      "cell_type": "markdown",
      "metadata": {
        "id": "view-in-github",
        "colab_type": "text"
      },
      "source": [
        "<a href=\"https://colab.research.google.com/github/Gau-6426/PCAP/blob/main/Code/segments.ipynb\" target=\"_parent\"><img src=\"https://colab.research.google.com/assets/colab-badge.svg\" alt=\"Open In Colab\"/></a>"
      ]
    },
    {
      "cell_type": "code",
      "metadata": {
        "id": "yrtrtGgH8dwK"
      },
      "source": [
        "import pandas as pd\n"
      ],
      "execution_count": 1,
      "outputs": []
    },
    {
      "cell_type": "code",
      "metadata": {
        "id": "JjTkGYtR8hHp",
        "colab": {
          "base_uri": "https://localhost:8080/"
        },
        "outputId": "55821698-6c57-4796-a0de-2dcc5440b38f"
      },
      "source": [
        "df_segments = pd.read_csv(\"https://raw.githubusercontent.com/Gau-6426/PCAP/main/Data/segments.csv\")\n",
        "print(df_segments.head(10))\n",
        "df_segments.shape"
      ],
      "execution_count": 3,
      "outputs": [
        {
          "output_type": "stream",
          "name": "stdout",
          "text": [
            "   _id                created_at  ... street_name  street_type\n",
            "0    0  2020-10-18T13:26:17.365Z  ...   Quốc Lộ 1        trunk\n",
            "1    1  2020-10-18T13:26:17.400Z  ...   Quốc Lộ 1        trunk\n",
            "2    2  2020-10-18T13:26:17.435Z  ...   Quốc Lộ 1        trunk\n",
            "3    3  2020-10-18T13:26:17.444Z  ...   Quốc Lộ 1        trunk\n",
            "4    4  2020-10-18T13:26:17.452Z  ...   Quốc Lộ 1        trunk\n",
            "5    5  2020-10-18T13:26:17.461Z  ...   Quốc Lộ 1        trunk\n",
            "6    6  2020-10-18T13:26:17.468Z  ...   Quốc Lộ 1        trunk\n",
            "7    7  2020-10-18T13:26:17.472Z  ...   Quốc Lộ 1        trunk\n",
            "8    8  2020-10-18T13:26:17.477Z  ...   Quốc Lộ 1        trunk\n",
            "9    9  2020-10-18T13:26:17.481Z  ...   Quốc Lộ 1        trunk\n",
            "\n",
            "[10 rows x 11 columns]\n"
          ]
        },
        {
          "output_type": "execute_result",
          "data": {
            "text/plain": [
              "(84633, 11)"
            ]
          },
          "metadata": {},
          "execution_count": 3
        }
      ]
    }
  ]
}