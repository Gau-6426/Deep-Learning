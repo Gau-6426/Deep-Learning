{
  "nbformat": 4,
  "nbformat_minor": 0,
  "metadata": {
    "colab": {
      "name": "Welcome To Colaboratory",
      "provenance": [],
      "collapsed_sections": [],
      "include_colab_link": true
    },
    "kernelspec": {
      "display_name": "Python 3",
      "name": "python3"
    }
  },
  "cells": [
    {
      "cell_type": "markdown",
      "metadata": {
        "id": "view-in-github",
        "colab_type": "text"
      },
      "source": [
        "<a href=\"https://colab.research.google.com/github/Gau-6426/PCAP/blob/main/Code/nodes.ipynb\" target=\"_parent\"><img src=\"https://colab.research.google.com/assets/colab-badge.svg\" alt=\"Open In Colab\"/></a>"
      ]
    },
    {
      "cell_type": "code",
      "metadata": {
        "id": "neLQfx9j9QOo"
      },
      "source": [
        "import pandas as pd\n",
        "import numpy as np\n",
        "import matplotlib.pyplot as plt\n",
        "import seaborn as sns"
      ],
      "execution_count": 33,
      "outputs": []
    },
    {
      "cell_type": "code",
      "metadata": {
        "id": "7U1JLlWm9Vdx",
        "colab": {
          "base_uri": "https://localhost:8080/"
        },
        "outputId": "1f7f7016-2b4b-4df8-a902-fbfe0392f9d2"
      },
      "source": [
        "df_nodes = pd.read_csv(\"https://raw.githubusercontent.com/Gau-6426/PCAP/main/Data/nodes.csv\")\n",
        "print(df_nodes.head(10))\n",
        "df_nodes.shape"
      ],
      "execution_count": 34,
      "outputs": [
        {
          "output_type": "stream",
          "name": "stdout",
          "text": [
            "         _id        long        lat\n",
            "0  366367223  106.629056  10.804243\n",
            "1  366367233  106.709701  10.771110\n",
            "2  366367242  106.737189  10.709337\n",
            "3  366367274  106.760081  10.854489\n",
            "4  366367285  106.721163  10.804994\n",
            "5  366367319  106.618552  10.790438\n",
            "6  366367322  106.657136  10.799155\n",
            "7  366367330  106.564926  10.846947\n",
            "8  366367338  106.632575  10.723753\n",
            "9  366367340  106.714288  10.803099\n"
          ]
        },
        {
          "output_type": "execute_result",
          "data": {
            "text/plain": [
              "(577967, 3)"
            ]
          },
          "metadata": {},
          "execution_count": 34
        }
      ]
    },
    {
      "cell_type": "code",
      "metadata": {
        "id": "1TLXq2eYw1xV",
        "colab": {
          "base_uri": "https://localhost:8080/",
          "height": 423
        },
        "outputId": "3bfed389-f86c-483e-937b-6e3c010020c9"
      },
      "source": [
        "#Sắp xếp dữ liệu theo giá trị giảm dần\n",
        "nodes_sort_long=df_nodes.sort_values('long',ascending=False)\n",
        "nodes_sort_long"
      ],
      "execution_count": 36,
      "outputs": [
        {
          "output_type": "execute_result",
          "data": {
            "text/html": [
              "<div>\n",
              "<style scoped>\n",
              "    .dataframe tbody tr th:only-of-type {\n",
              "        vertical-align: middle;\n",
              "    }\n",
              "\n",
              "    .dataframe tbody tr th {\n",
              "        vertical-align: top;\n",
              "    }\n",
              "\n",
              "    .dataframe thead th {\n",
              "        text-align: right;\n",
              "    }\n",
              "</style>\n",
              "<table border=\"1\" class=\"dataframe\">\n",
              "  <thead>\n",
              "    <tr style=\"text-align: right;\">\n",
              "      <th></th>\n",
              "      <th>_id</th>\n",
              "      <th>long</th>\n",
              "      <th>lat</th>\n",
              "    </tr>\n",
              "  </thead>\n",
              "  <tbody>\n",
              "    <tr>\n",
              "      <th>428347</th>\n",
              "      <td>5735312295</td>\n",
              "      <td>106.867994</td>\n",
              "      <td>10.805678</td>\n",
              "    </tr>\n",
              "    <tr>\n",
              "      <th>39252</th>\n",
              "      <td>367503051</td>\n",
              "      <td>106.867981</td>\n",
              "      <td>10.809432</td>\n",
              "    </tr>\n",
              "    <tr>\n",
              "      <th>75394</th>\n",
              "      <td>1593310040</td>\n",
              "      <td>106.867978</td>\n",
              "      <td>10.743812</td>\n",
              "    </tr>\n",
              "    <tr>\n",
              "      <th>183533</th>\n",
              "      <td>3704736806</td>\n",
              "      <td>106.867971</td>\n",
              "      <td>10.728268</td>\n",
              "    </tr>\n",
              "    <tr>\n",
              "      <th>263569</th>\n",
              "      <td>5153241519</td>\n",
              "      <td>106.867970</td>\n",
              "      <td>10.872766</td>\n",
              "    </tr>\n",
              "    <tr>\n",
              "      <th>...</th>\n",
              "      <td>...</td>\n",
              "      <td>...</td>\n",
              "      <td>...</td>\n",
              "    </tr>\n",
              "    <tr>\n",
              "      <th>41441</th>\n",
              "      <td>367515274</td>\n",
              "      <td>106.536016</td>\n",
              "      <td>10.789476</td>\n",
              "    </tr>\n",
              "    <tr>\n",
              "      <th>58545</th>\n",
              "      <td>367753398</td>\n",
              "      <td>106.536015</td>\n",
              "      <td>10.716888</td>\n",
              "    </tr>\n",
              "    <tr>\n",
              "      <th>58544</th>\n",
              "      <td>367753348</td>\n",
              "      <td>106.536007</td>\n",
              "      <td>10.714428</td>\n",
              "    </tr>\n",
              "    <tr>\n",
              "      <th>85931</th>\n",
              "      <td>1854295533</td>\n",
              "      <td>106.536006</td>\n",
              "      <td>10.718876</td>\n",
              "    </tr>\n",
              "    <tr>\n",
              "      <th>58543</th>\n",
              "      <td>367753329</td>\n",
              "      <td>106.536005</td>\n",
              "      <td>10.714025</td>\n",
              "    </tr>\n",
              "  </tbody>\n",
              "</table>\n",
              "<p>577967 rows × 3 columns</p>\n",
              "</div>"
            ],
            "text/plain": [
              "               _id        long        lat\n",
              "428347  5735312295  106.867994  10.805678\n",
              "39252    367503051  106.867981  10.809432\n",
              "75394   1593310040  106.867978  10.743812\n",
              "183533  3704736806  106.867971  10.728268\n",
              "263569  5153241519  106.867970  10.872766\n",
              "...            ...         ...        ...\n",
              "41441    367515274  106.536016  10.789476\n",
              "58545    367753398  106.536015  10.716888\n",
              "58544    367753348  106.536007  10.714428\n",
              "85931   1854295533  106.536006  10.718876\n",
              "58543    367753329  106.536005  10.714025\n",
              "\n",
              "[577967 rows x 3 columns]"
            ]
          },
          "metadata": {},
          "execution_count": 36
        }
      ]
    },
    {
      "cell_type": "code",
      "metadata": {
        "id": "iWZUyVS0PDKL",
        "colab": {
          "base_uri": "https://localhost:8080/",
          "height": 423
        },
        "outputId": "5eb33800-b881-41e1-960d-594579dcaab4"
      },
      "source": [
        "#Sắp xếp dữ liệu theo giá trị giảm dần\n",
        "nodes_sort_lat=df_nodes.sort_values('lat',ascending=False)\n",
        "nodes_sort_lat"
      ],
      "execution_count": 37,
      "outputs": [
        {
          "output_type": "execute_result",
          "data": {
            "text/html": [
              "<div>\n",
              "<style scoped>\n",
              "    .dataframe tbody tr th:only-of-type {\n",
              "        vertical-align: middle;\n",
              "    }\n",
              "\n",
              "    .dataframe tbody tr th {\n",
              "        vertical-align: top;\n",
              "    }\n",
              "\n",
              "    .dataframe thead th {\n",
              "        text-align: right;\n",
              "    }\n",
              "</style>\n",
              "<table border=\"1\" class=\"dataframe\">\n",
              "  <thead>\n",
              "    <tr style=\"text-align: right;\">\n",
              "      <th></th>\n",
              "      <th>_id</th>\n",
              "      <th>long</th>\n",
              "      <th>lat</th>\n",
              "    </tr>\n",
              "  </thead>\n",
              "  <tbody>\n",
              "    <tr>\n",
              "      <th>3455</th>\n",
              "      <td>366401640</td>\n",
              "      <td>106.609268</td>\n",
              "      <td>10.888998</td>\n",
              "    </tr>\n",
              "    <tr>\n",
              "      <th>467248</th>\n",
              "      <td>5750509319</td>\n",
              "      <td>106.646542</td>\n",
              "      <td>10.888998</td>\n",
              "    </tr>\n",
              "    <tr>\n",
              "      <th>469423</th>\n",
              "      <td>5750670262</td>\n",
              "      <td>106.667880</td>\n",
              "      <td>10.888997</td>\n",
              "    </tr>\n",
              "    <tr>\n",
              "      <th>469480</th>\n",
              "      <td>5750672517</td>\n",
              "      <td>106.673062</td>\n",
              "      <td>10.888997</td>\n",
              "    </tr>\n",
              "    <tr>\n",
              "      <th>139980</th>\n",
              "      <td>2942307867</td>\n",
              "      <td>106.804349</td>\n",
              "      <td>10.888996</td>\n",
              "    </tr>\n",
              "    <tr>\n",
              "      <th>...</th>\n",
              "      <td>...</td>\n",
              "      <td>...</td>\n",
              "      <td>...</td>\n",
              "    </tr>\n",
              "    <tr>\n",
              "      <th>14703</th>\n",
              "      <td>367165329</td>\n",
              "      <td>106.552183</td>\n",
              "      <td>10.676003</td>\n",
              "    </tr>\n",
              "    <tr>\n",
              "      <th>264982</th>\n",
              "      <td>5168393141</td>\n",
              "      <td>106.733988</td>\n",
              "      <td>10.676003</td>\n",
              "    </tr>\n",
              "    <tr>\n",
              "      <th>508373</th>\n",
              "      <td>5764805030</td>\n",
              "      <td>106.546032</td>\n",
              "      <td>10.676001</td>\n",
              "    </tr>\n",
              "    <tr>\n",
              "      <th>544886</th>\n",
              "      <td>5786019725</td>\n",
              "      <td>106.733516</td>\n",
              "      <td>10.676001</td>\n",
              "    </tr>\n",
              "    <tr>\n",
              "      <th>545042</th>\n",
              "      <td>5786076813</td>\n",
              "      <td>106.751569</td>\n",
              "      <td>10.676001</td>\n",
              "    </tr>\n",
              "  </tbody>\n",
              "</table>\n",
              "<p>577967 rows × 3 columns</p>\n",
              "</div>"
            ],
            "text/plain": [
              "               _id        long        lat\n",
              "3455     366401640  106.609268  10.888998\n",
              "467248  5750509319  106.646542  10.888998\n",
              "469423  5750670262  106.667880  10.888997\n",
              "469480  5750672517  106.673062  10.888997\n",
              "139980  2942307867  106.804349  10.888996\n",
              "...            ...         ...        ...\n",
              "14703    367165329  106.552183  10.676003\n",
              "264982  5168393141  106.733988  10.676003\n",
              "508373  5764805030  106.546032  10.676001\n",
              "544886  5786019725  106.733516  10.676001\n",
              "545042  5786076813  106.751569  10.676001\n",
              "\n",
              "[577967 rows x 3 columns]"
            ]
          },
          "metadata": {},
          "execution_count": 37
        }
      ]
    }
  ]
}