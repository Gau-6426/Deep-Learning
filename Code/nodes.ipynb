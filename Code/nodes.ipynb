{
  "nbformat": 4,
  "nbformat_minor": 0,
  "metadata": {
    "colab": {
      "name": "Welcome To Colaboratory",
      "provenance": [],
      "collapsed_sections": [],
      "include_colab_link": true
    },
    "kernelspec": {
      "display_name": "Python 3",
      "name": "python3"
    }
  },
  "cells": [
    {
      "cell_type": "markdown",
      "metadata": {
        "id": "view-in-github",
        "colab_type": "text"
      },
      "source": [
        "<a href=\"https://colab.research.google.com/github/Gau-6426/PCAP/blob/main/Code/nodes.ipynb\" target=\"_parent\"><img src=\"https://colab.research.google.com/assets/colab-badge.svg\" alt=\"Open In Colab\"/></a>"
      ]
    },
    {
      "cell_type": "code",
      "metadata": {
        "id": "neLQfx9j9QOo"
      },
      "source": [
        "import pandas as pd\n",
        "import numpy as np\n",
        "import matplotlib.pyplot as plt\n",
        "import seaborn as sns"
      ],
      "execution_count": 1,
      "outputs": []
    },
    {
      "cell_type": "code",
      "metadata": {
        "id": "7U1JLlWm9Vdx",
        "colab": {
          "base_uri": "https://localhost:8080/"
        },
        "outputId": "7fd500db-565b-47ca-c8dd-6ac2545eb809"
      },
      "source": [
        "df_nodes = pd.read_csv(\"https://raw.githubusercontent.com/Gau-6426/PCAP/main/Data/nodes.csv\",index_col=\"_id\")\n",
        "print(df_nodes.head(10))\n",
        "df_nodes.shape"
      ],
      "execution_count": 2,
      "outputs": [
        {
          "output_type": "stream",
          "name": "stdout",
          "text": [
            "                 long        lat\n",
            "_id                             \n",
            "366367223  106.629056  10.804243\n",
            "366367233  106.709701  10.771110\n",
            "366367242  106.737189  10.709337\n",
            "366367274  106.760081  10.854489\n",
            "366367285  106.721163  10.804994\n",
            "366367319  106.618552  10.790438\n",
            "366367322  106.657136  10.799155\n",
            "366367330  106.564926  10.846947\n",
            "366367338  106.632575  10.723753\n",
            "366367340  106.714288  10.803099\n"
          ]
        },
        {
          "output_type": "execute_result",
          "data": {
            "text/plain": [
              "(577967, 2)"
            ]
          },
          "metadata": {},
          "execution_count": 2
        }
      ]
    },
    {
      "cell_type": "code",
      "metadata": {
        "id": "1TLXq2eYw1xV",
        "colab": {
          "base_uri": "https://localhost:8080/",
          "height": 455
        },
        "outputId": "a2671e55-7587-4155-afa9-368c2dca9667"
      },
      "source": [
        "#Sắp xếp dữ liệu theo giá trị giảm dần\n",
        "nodes_sort_long=df_nodes.sort_values('long',ascending=False)\n",
        "nodes_sort_long"
      ],
      "execution_count": 3,
      "outputs": [
        {
          "output_type": "execute_result",
          "data": {
            "text/html": [
              "<div>\n",
              "<style scoped>\n",
              "    .dataframe tbody tr th:only-of-type {\n",
              "        vertical-align: middle;\n",
              "    }\n",
              "\n",
              "    .dataframe tbody tr th {\n",
              "        vertical-align: top;\n",
              "    }\n",
              "\n",
              "    .dataframe thead th {\n",
              "        text-align: right;\n",
              "    }\n",
              "</style>\n",
              "<table border=\"1\" class=\"dataframe\">\n",
              "  <thead>\n",
              "    <tr style=\"text-align: right;\">\n",
              "      <th></th>\n",
              "      <th>long</th>\n",
              "      <th>lat</th>\n",
              "    </tr>\n",
              "    <tr>\n",
              "      <th>_id</th>\n",
              "      <th></th>\n",
              "      <th></th>\n",
              "    </tr>\n",
              "  </thead>\n",
              "  <tbody>\n",
              "    <tr>\n",
              "      <th>5735312295</th>\n",
              "      <td>106.867994</td>\n",
              "      <td>10.805678</td>\n",
              "    </tr>\n",
              "    <tr>\n",
              "      <th>367503051</th>\n",
              "      <td>106.867981</td>\n",
              "      <td>10.809432</td>\n",
              "    </tr>\n",
              "    <tr>\n",
              "      <th>1593310040</th>\n",
              "      <td>106.867978</td>\n",
              "      <td>10.743812</td>\n",
              "    </tr>\n",
              "    <tr>\n",
              "      <th>3704736806</th>\n",
              "      <td>106.867971</td>\n",
              "      <td>10.728268</td>\n",
              "    </tr>\n",
              "    <tr>\n",
              "      <th>5153241519</th>\n",
              "      <td>106.867970</td>\n",
              "      <td>10.872766</td>\n",
              "    </tr>\n",
              "    <tr>\n",
              "      <th>...</th>\n",
              "      <td>...</td>\n",
              "      <td>...</td>\n",
              "    </tr>\n",
              "    <tr>\n",
              "      <th>367515274</th>\n",
              "      <td>106.536016</td>\n",
              "      <td>10.789476</td>\n",
              "    </tr>\n",
              "    <tr>\n",
              "      <th>367753398</th>\n",
              "      <td>106.536015</td>\n",
              "      <td>10.716888</td>\n",
              "    </tr>\n",
              "    <tr>\n",
              "      <th>367753348</th>\n",
              "      <td>106.536007</td>\n",
              "      <td>10.714428</td>\n",
              "    </tr>\n",
              "    <tr>\n",
              "      <th>1854295533</th>\n",
              "      <td>106.536006</td>\n",
              "      <td>10.718876</td>\n",
              "    </tr>\n",
              "    <tr>\n",
              "      <th>367753329</th>\n",
              "      <td>106.536005</td>\n",
              "      <td>10.714025</td>\n",
              "    </tr>\n",
              "  </tbody>\n",
              "</table>\n",
              "<p>577967 rows × 2 columns</p>\n",
              "</div>"
            ],
            "text/plain": [
              "                  long        lat\n",
              "_id                              \n",
              "5735312295  106.867994  10.805678\n",
              "367503051   106.867981  10.809432\n",
              "1593310040  106.867978  10.743812\n",
              "3704736806  106.867971  10.728268\n",
              "5153241519  106.867970  10.872766\n",
              "...                ...        ...\n",
              "367515274   106.536016  10.789476\n",
              "367753398   106.536015  10.716888\n",
              "367753348   106.536007  10.714428\n",
              "1854295533  106.536006  10.718876\n",
              "367753329   106.536005  10.714025\n",
              "\n",
              "[577967 rows x 2 columns]"
            ]
          },
          "metadata": {},
          "execution_count": 3
        }
      ]
    },
    {
      "cell_type": "code",
      "metadata": {
        "id": "iWZUyVS0PDKL",
        "colab": {
          "base_uri": "https://localhost:8080/",
          "height": 455
        },
        "outputId": "2f350231-8335-4335-d939-cee738678ca3"
      },
      "source": [
        "#Sắp xếp dữ liệu theo giá trị giảm dần\n",
        "nodes_sort_lat=df_nodes.sort_values('lat',ascending=False)\n",
        "nodes_sort_lat"
      ],
      "execution_count": 4,
      "outputs": [
        {
          "output_type": "execute_result",
          "data": {
            "text/html": [
              "<div>\n",
              "<style scoped>\n",
              "    .dataframe tbody tr th:only-of-type {\n",
              "        vertical-align: middle;\n",
              "    }\n",
              "\n",
              "    .dataframe tbody tr th {\n",
              "        vertical-align: top;\n",
              "    }\n",
              "\n",
              "    .dataframe thead th {\n",
              "        text-align: right;\n",
              "    }\n",
              "</style>\n",
              "<table border=\"1\" class=\"dataframe\">\n",
              "  <thead>\n",
              "    <tr style=\"text-align: right;\">\n",
              "      <th></th>\n",
              "      <th>long</th>\n",
              "      <th>lat</th>\n",
              "    </tr>\n",
              "    <tr>\n",
              "      <th>_id</th>\n",
              "      <th></th>\n",
              "      <th></th>\n",
              "    </tr>\n",
              "  </thead>\n",
              "  <tbody>\n",
              "    <tr>\n",
              "      <th>366401640</th>\n",
              "      <td>106.609268</td>\n",
              "      <td>10.888998</td>\n",
              "    </tr>\n",
              "    <tr>\n",
              "      <th>5750509319</th>\n",
              "      <td>106.646542</td>\n",
              "      <td>10.888998</td>\n",
              "    </tr>\n",
              "    <tr>\n",
              "      <th>5750670262</th>\n",
              "      <td>106.667880</td>\n",
              "      <td>10.888997</td>\n",
              "    </tr>\n",
              "    <tr>\n",
              "      <th>5750672517</th>\n",
              "      <td>106.673062</td>\n",
              "      <td>10.888997</td>\n",
              "    </tr>\n",
              "    <tr>\n",
              "      <th>2942307867</th>\n",
              "      <td>106.804349</td>\n",
              "      <td>10.888996</td>\n",
              "    </tr>\n",
              "    <tr>\n",
              "      <th>...</th>\n",
              "      <td>...</td>\n",
              "      <td>...</td>\n",
              "    </tr>\n",
              "    <tr>\n",
              "      <th>367165329</th>\n",
              "      <td>106.552183</td>\n",
              "      <td>10.676003</td>\n",
              "    </tr>\n",
              "    <tr>\n",
              "      <th>5168393141</th>\n",
              "      <td>106.733988</td>\n",
              "      <td>10.676003</td>\n",
              "    </tr>\n",
              "    <tr>\n",
              "      <th>5764805030</th>\n",
              "      <td>106.546032</td>\n",
              "      <td>10.676001</td>\n",
              "    </tr>\n",
              "    <tr>\n",
              "      <th>5786019725</th>\n",
              "      <td>106.733516</td>\n",
              "      <td>10.676001</td>\n",
              "    </tr>\n",
              "    <tr>\n",
              "      <th>5786076813</th>\n",
              "      <td>106.751569</td>\n",
              "      <td>10.676001</td>\n",
              "    </tr>\n",
              "  </tbody>\n",
              "</table>\n",
              "<p>577967 rows × 2 columns</p>\n",
              "</div>"
            ],
            "text/plain": [
              "                  long        lat\n",
              "_id                              \n",
              "366401640   106.609268  10.888998\n",
              "5750509319  106.646542  10.888998\n",
              "5750670262  106.667880  10.888997\n",
              "5750672517  106.673062  10.888997\n",
              "2942307867  106.804349  10.888996\n",
              "...                ...        ...\n",
              "367165329   106.552183  10.676003\n",
              "5168393141  106.733988  10.676003\n",
              "5764805030  106.546032  10.676001\n",
              "5786019725  106.733516  10.676001\n",
              "5786076813  106.751569  10.676001\n",
              "\n",
              "[577967 rows x 2 columns]"
            ]
          },
          "metadata": {},
          "execution_count": 4
        }
      ]
    }
  ]
}