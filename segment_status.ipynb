{
  "nbformat": 4,
  "nbformat_minor": 0,
  "metadata": {
    "colab": {
      "name": "Welcome To Colaboratory",
      "provenance": [],
      "collapsed_sections": [],
      "toc_visible": true,
      "include_colab_link": true
    },
    "kernelspec": {
      "display_name": "Python 3",
      "name": "python3"
    }
  },
  "cells": [
    {
      "cell_type": "markdown",
      "metadata": {
        "id": "view-in-github",
        "colab_type": "text"
      },
      "source": [
        "<a href=\"https://colab.research.google.com/github/Gau-6426/PCAP/blob/main/segment_status.ipynb\" target=\"_parent\"><img src=\"https://colab.research.google.com/assets/colab-badge.svg\" alt=\"Open In Colab\"/></a>"
      ]
    },
    {
      "cell_type": "code",
      "metadata": {
        "id": "1Ahgi8-Vu2fB"
      },
      "source": [
        "import sys\n",
        "import pandas as pd"
      ],
      "execution_count": 1,
      "outputs": []
    },
    {
      "cell_type": "code",
      "metadata": {
        "id": "eMbMXUJMu8I-",
        "outputId": "49af82d8-8286-4823-86a8-d0dd05b82134",
        "colab": {
          "base_uri": "https://localhost:8080/",
          "height": 357
        }
      },
      "source": [
        "df_segment_status = pd.read_csv(\"https://raw.githubusercontent.com/Gau-6426/PCAP/main/segment_status.csv\")\n",
        "df_segment_status.head(10)"
      ],
      "execution_count": 2,
      "outputs": [
        {
          "output_type": "execute_result",
          "data": {
            "text/html": [
              "<div>\n",
              "<style scoped>\n",
              "    .dataframe tbody tr th:only-of-type {\n",
              "        vertical-align: middle;\n",
              "    }\n",
              "\n",
              "    .dataframe tbody tr th {\n",
              "        vertical-align: top;\n",
              "    }\n",
              "\n",
              "    .dataframe thead th {\n",
              "        text-align: right;\n",
              "    }\n",
              "</style>\n",
              "<table border=\"1\" class=\"dataframe\">\n",
              "  <thead>\n",
              "    <tr style=\"text-align: right;\">\n",
              "      <th></th>\n",
              "      <th>_id</th>\n",
              "      <th>updated_at</th>\n",
              "      <th>segment_id</th>\n",
              "      <th>velocity</th>\n",
              "    </tr>\n",
              "  </thead>\n",
              "  <tbody>\n",
              "    <tr>\n",
              "      <th>0</th>\n",
              "      <td>0</td>\n",
              "      <td>2020-07-03T14:55:31.869Z</td>\n",
              "      <td>24845</td>\n",
              "      <td>20</td>\n",
              "    </tr>\n",
              "    <tr>\n",
              "      <th>1</th>\n",
              "      <td>1</td>\n",
              "      <td>2020-07-03T15:02:56.048Z</td>\n",
              "      <td>33923</td>\n",
              "      <td>10</td>\n",
              "    </tr>\n",
              "    <tr>\n",
              "      <th>2</th>\n",
              "      <td>2</td>\n",
              "      <td>2020-07-04T08:15:52.696Z</td>\n",
              "      <td>33824</td>\n",
              "      <td>5</td>\n",
              "    </tr>\n",
              "    <tr>\n",
              "      <th>3</th>\n",
              "      <td>3</td>\n",
              "      <td>2020-07-04T08:15:59.903Z</td>\n",
              "      <td>33824</td>\n",
              "      <td>5</td>\n",
              "    </tr>\n",
              "    <tr>\n",
              "      <th>4</th>\n",
              "      <td>4</td>\n",
              "      <td>2020-07-04T08:16:08.201Z</td>\n",
              "      <td>33824</td>\n",
              "      <td>5</td>\n",
              "    </tr>\n",
              "    <tr>\n",
              "      <th>5</th>\n",
              "      <td>5</td>\n",
              "      <td>2020-07-04T08:16:11.070Z</td>\n",
              "      <td>33824</td>\n",
              "      <td>5</td>\n",
              "    </tr>\n",
              "    <tr>\n",
              "      <th>6</th>\n",
              "      <td>6</td>\n",
              "      <td>2020-07-04T08:16:18.512Z</td>\n",
              "      <td>33824</td>\n",
              "      <td>5</td>\n",
              "    </tr>\n",
              "    <tr>\n",
              "      <th>7</th>\n",
              "      <td>7</td>\n",
              "      <td>2020-07-04T08:16:21.798Z</td>\n",
              "      <td>33824</td>\n",
              "      <td>5</td>\n",
              "    </tr>\n",
              "    <tr>\n",
              "      <th>8</th>\n",
              "      <td>8</td>\n",
              "      <td>2020-07-04T08:16:24.746Z</td>\n",
              "      <td>33824</td>\n",
              "      <td>5</td>\n",
              "    </tr>\n",
              "    <tr>\n",
              "      <th>9</th>\n",
              "      <td>9</td>\n",
              "      <td>2020-07-04T08:16:27.606Z</td>\n",
              "      <td>33824</td>\n",
              "      <td>5</td>\n",
              "    </tr>\n",
              "  </tbody>\n",
              "</table>\n",
              "</div>"
            ],
            "text/plain": [
              "   _id                updated_at  segment_id  velocity\n",
              "0    0  2020-07-03T14:55:31.869Z       24845        20\n",
              "1    1  2020-07-03T15:02:56.048Z       33923        10\n",
              "2    2  2020-07-04T08:15:52.696Z       33824         5\n",
              "3    3  2020-07-04T08:15:59.903Z       33824         5\n",
              "4    4  2020-07-04T08:16:08.201Z       33824         5\n",
              "5    5  2020-07-04T08:16:11.070Z       33824         5\n",
              "6    6  2020-07-04T08:16:18.512Z       33824         5\n",
              "7    7  2020-07-04T08:16:21.798Z       33824         5\n",
              "8    8  2020-07-04T08:16:24.746Z       33824         5\n",
              "9    9  2020-07-04T08:16:27.606Z       33824         5"
            ]
          },
          "metadata": {},
          "execution_count": 2
        }
      ]
    }
  ]
}