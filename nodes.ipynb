{
  "nbformat": 4,
  "nbformat_minor": 0,
  "metadata": {
    "colab": {
      "name": "Welcome To Colaboratory",
      "provenance": [],
      "collapsed_sections": [],
      "toc_visible": true,
      "include_colab_link": true
    },
    "kernelspec": {
      "display_name": "Python 3",
      "name": "python3"
    }
  },
  "cells": [
    {
      "cell_type": "markdown",
      "metadata": {
        "id": "view-in-github",
        "colab_type": "text"
      },
      "source": [
        "<a href=\"https://colab.research.google.com/github/Gau-6426/PCAP/blob/main/PCAP(01).ipynb\" target=\"_parent\"><img src=\"https://colab.research.google.com/assets/colab-badge.svg\" alt=\"Open In Colab\"/></a>"
      ]
    },
    {
      "cell_type": "code",
      "metadata": {
        "id": "VNNyqnGTJyEP"
      },
      "source": [
        "import pandas as pd\n",
        "from pandas import read_csv\n"
      ],
      "execution_count": 13,
      "outputs": []
    },
    {
      "cell_type": "code",
      "metadata": {
        "id": "6trXnv7fSrQ6"
      },
      "source": [
        "#loading data nodes.csv\n",
        "dataset = pd.read_csv('https://raw.githubusercontent.com/Gau-6426/PCAP/main/nodes.csv')\n",
        "df_nodes =  dataset\n",
        "df_nodes.head()"
      ],
      "execution_count": null,
      "outputs": []
    }
  ]
}
