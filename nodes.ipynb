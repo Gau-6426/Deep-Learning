{
  "nbformat": 4,
  "nbformat_minor": 0,
  "metadata": {
    "colab": {
      "name": "Welcome To Colaboratory",
      "provenance": [],
      "collapsed_sections": [],
      "toc_visible": true,
      "include_colab_link": true
    },
    "kernelspec": {
      "display_name": "Python 3",
      "name": "python3"
    }
  },
  "cells": [
    {
      "cell_type": "markdown",
      "metadata": {
        "id": "view-in-github",
        "colab_type": "text"
      },
      "source": [
        "<a href=\"https://colab.research.google.com/github/Gau-6426/PCAP/blob/main/nodes.ipynb\" target=\"_parent\"><img src=\"https://colab.research.google.com/assets/colab-badge.svg\" alt=\"Open In Colab\"/></a>"
      ]
    },
    {
      "cell_type": "code",
      "metadata": {
        "id": "VNNyqnGTJyEP"
      },
      "source": [
        "import pandas as pd\n",
        "import sys\n"
      ],
      "execution_count": 11,
      "outputs": []
    },
    {
      "cell_type": "code",
      "metadata": {
        "id": "6trXnv7fSrQ6",
        "outputId": "b597ce06-9f15-4855-9566-a42fc1694dc8",
        "colab": {
          "base_uri": "https://localhost:8080/",
          "height": 357
        }
      },
      "source": [
        "#loading data nodes.csv\n",
        "df_nodes = pd.read_csv('https://raw.githubusercontent.com/Gau-6426/PCAP/main/nodes.csv')\n",
        "df_nodes.head(10)"
      ],
      "execution_count": 10,
      "outputs": [
        {
          "output_type": "execute_result",
          "data": {
            "text/html": [
              "<div>\n",
              "<style scoped>\n",
              "    .dataframe tbody tr th:only-of-type {\n",
              "        vertical-align: middle;\n",
              "    }\n",
              "\n",
              "    .dataframe tbody tr th {\n",
              "        vertical-align: top;\n",
              "    }\n",
              "\n",
              "    .dataframe thead th {\n",
              "        text-align: right;\n",
              "    }\n",
              "</style>\n",
              "<table border=\"1\" class=\"dataframe\">\n",
              "  <thead>\n",
              "    <tr style=\"text-align: right;\">\n",
              "      <th></th>\n",
              "      <th>_id</th>\n",
              "      <th>long</th>\n",
              "      <th>lat</th>\n",
              "    </tr>\n",
              "  </thead>\n",
              "  <tbody>\n",
              "    <tr>\n",
              "      <th>0</th>\n",
              "      <td>366367223</td>\n",
              "      <td>106.629056</td>\n",
              "      <td>10.804243</td>\n",
              "    </tr>\n",
              "    <tr>\n",
              "      <th>1</th>\n",
              "      <td>366367233</td>\n",
              "      <td>106.709701</td>\n",
              "      <td>10.771110</td>\n",
              "    </tr>\n",
              "    <tr>\n",
              "      <th>2</th>\n",
              "      <td>366367242</td>\n",
              "      <td>106.737189</td>\n",
              "      <td>10.709337</td>\n",
              "    </tr>\n",
              "    <tr>\n",
              "      <th>3</th>\n",
              "      <td>366367274</td>\n",
              "      <td>106.760081</td>\n",
              "      <td>10.854489</td>\n",
              "    </tr>\n",
              "    <tr>\n",
              "      <th>4</th>\n",
              "      <td>366367285</td>\n",
              "      <td>106.721163</td>\n",
              "      <td>10.804994</td>\n",
              "    </tr>\n",
              "    <tr>\n",
              "      <th>5</th>\n",
              "      <td>366367319</td>\n",
              "      <td>106.618552</td>\n",
              "      <td>10.790438</td>\n",
              "    </tr>\n",
              "    <tr>\n",
              "      <th>6</th>\n",
              "      <td>366367322</td>\n",
              "      <td>106.657136</td>\n",
              "      <td>10.799155</td>\n",
              "    </tr>\n",
              "    <tr>\n",
              "      <th>7</th>\n",
              "      <td>366367330</td>\n",
              "      <td>106.564926</td>\n",
              "      <td>10.846947</td>\n",
              "    </tr>\n",
              "    <tr>\n",
              "      <th>8</th>\n",
              "      <td>366367338</td>\n",
              "      <td>106.632575</td>\n",
              "      <td>10.723753</td>\n",
              "    </tr>\n",
              "    <tr>\n",
              "      <th>9</th>\n",
              "      <td>366367340</td>\n",
              "      <td>106.714288</td>\n",
              "      <td>10.803099</td>\n",
              "    </tr>\n",
              "  </tbody>\n",
              "</table>\n",
              "</div>"
            ],
            "text/plain": [
              "         _id        long        lat\n",
              "0  366367223  106.629056  10.804243\n",
              "1  366367233  106.709701  10.771110\n",
              "2  366367242  106.737189  10.709337\n",
              "3  366367274  106.760081  10.854489\n",
              "4  366367285  106.721163  10.804994\n",
              "5  366367319  106.618552  10.790438\n",
              "6  366367322  106.657136  10.799155\n",
              "7  366367330  106.564926  10.846947\n",
              "8  366367338  106.632575  10.723753\n",
              "9  366367340  106.714288  10.803099"
            ]
          },
          "metadata": {},
          "execution_count": 10
        }
      ]
    },
    {
      "cell_type": "code",
      "metadata": {
        "id": "JyGh_YHfpBgf",
        "outputId": "9a50b8b2-72a8-4251-d550-76a7576ff75a",
        "colab": {
          "base_uri": "https://localhost:8080/",
          "height": 417
        }
      },
      "source": [
        "# đổi tên cột\n",
        "df_nodes.rename(columns={\"_id\":\"ID\",\"long\":\"Kinh Độ\", \"lat\":\"Vĩ Độ\"})"
      ],
      "execution_count": 14,
      "outputs": [
        {
          "output_type": "execute_result",
          "data": {
            "text/html": [
              "<div>\n",
              "<style scoped>\n",
              "    .dataframe tbody tr th:only-of-type {\n",
              "        vertical-align: middle;\n",
              "    }\n",
              "\n",
              "    .dataframe tbody tr th {\n",
              "        vertical-align: top;\n",
              "    }\n",
              "\n",
              "    .dataframe thead th {\n",
              "        text-align: right;\n",
              "    }\n",
              "</style>\n",
              "<table border=\"1\" class=\"dataframe\">\n",
              "  <thead>\n",
              "    <tr style=\"text-align: right;\">\n",
              "      <th></th>\n",
              "      <th>ID</th>\n",
              "      <th>Kinh Độ</th>\n",
              "      <th>Vĩ Độ</th>\n",
              "    </tr>\n",
              "  </thead>\n",
              "  <tbody>\n",
              "    <tr>\n",
              "      <th>0</th>\n",
              "      <td>366367223</td>\n",
              "      <td>106.629056</td>\n",
              "      <td>10.804243</td>\n",
              "    </tr>\n",
              "    <tr>\n",
              "      <th>1</th>\n",
              "      <td>366367233</td>\n",
              "      <td>106.709701</td>\n",
              "      <td>10.771110</td>\n",
              "    </tr>\n",
              "    <tr>\n",
              "      <th>2</th>\n",
              "      <td>366367242</td>\n",
              "      <td>106.737189</td>\n",
              "      <td>10.709337</td>\n",
              "    </tr>\n",
              "    <tr>\n",
              "      <th>3</th>\n",
              "      <td>366367274</td>\n",
              "      <td>106.760081</td>\n",
              "      <td>10.854489</td>\n",
              "    </tr>\n",
              "    <tr>\n",
              "      <th>4</th>\n",
              "      <td>366367285</td>\n",
              "      <td>106.721163</td>\n",
              "      <td>10.804994</td>\n",
              "    </tr>\n",
              "    <tr>\n",
              "      <th>...</th>\n",
              "      <td>...</td>\n",
              "      <td>...</td>\n",
              "      <td>...</td>\n",
              "    </tr>\n",
              "    <tr>\n",
              "      <th>577962</th>\n",
              "      <td>6202895387</td>\n",
              "      <td>106.647884</td>\n",
              "      <td>10.886330</td>\n",
              "    </tr>\n",
              "    <tr>\n",
              "      <th>577963</th>\n",
              "      <td>6202895388</td>\n",
              "      <td>106.649075</td>\n",
              "      <td>10.876678</td>\n",
              "    </tr>\n",
              "    <tr>\n",
              "      <th>577964</th>\n",
              "      <td>6203301188</td>\n",
              "      <td>106.700737</td>\n",
              "      <td>10.774919</td>\n",
              "    </tr>\n",
              "    <tr>\n",
              "      <th>577965</th>\n",
              "      <td>6203333885</td>\n",
              "      <td>106.699275</td>\n",
              "      <td>10.768892</td>\n",
              "    </tr>\n",
              "    <tr>\n",
              "      <th>577966</th>\n",
              "      <td>6205235785</td>\n",
              "      <td>106.691436</td>\n",
              "      <td>10.764490</td>\n",
              "    </tr>\n",
              "  </tbody>\n",
              "</table>\n",
              "<p>577967 rows × 3 columns</p>\n",
              "</div>"
            ],
            "text/plain": [
              "                ID     Kinh Độ      Vĩ Độ\n",
              "0        366367223  106.629056  10.804243\n",
              "1        366367233  106.709701  10.771110\n",
              "2        366367242  106.737189  10.709337\n",
              "3        366367274  106.760081  10.854489\n",
              "4        366367285  106.721163  10.804994\n",
              "...            ...         ...        ...\n",
              "577962  6202895387  106.647884  10.886330\n",
              "577963  6202895388  106.649075  10.876678\n",
              "577964  6203301188  106.700737  10.774919\n",
              "577965  6203333885  106.699275  10.768892\n",
              "577966  6205235785  106.691436  10.764490\n",
              "\n",
              "[577967 rows x 3 columns]"
            ]
          },
          "metadata": {},
          "execution_count": 14
        }
      ]
    },
    {
      "cell_type": "code",
      "metadata": {
        "id": "t7axe8Zltqru"
      },
      "source": [
        ""
      ],
      "execution_count": null,
      "outputs": []
    }
  ]
}